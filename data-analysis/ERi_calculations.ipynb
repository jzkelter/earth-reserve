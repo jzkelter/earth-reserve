{
 "cells": [
  {
   "cell_type": "markdown",
   "metadata": {},
   "source": [
    "# ERi Calculation in Matrix Form "
   ]
  },
  {
   "cell_type": "markdown",
   "metadata": {
    "heading_collapsed": true
   },
   "source": [
    "## Old ERi Calculation in Matrix Form (has an error)\n",
    "There is something wrong with the methodology. The ERi of each ecoregion is nowhere to be found..."
   ]
  },
  {
   "cell_type": "code",
   "execution_count": 1,
   "metadata": {
    "hidden": true
   },
   "outputs": [
    {
     "data": {
      "text/plain": [
       "3-element Array{Float64,1}:\n",
       " 0.9833333333333334\n",
       " 1.2833333333333334\n",
       " 0.7333333333333332"
      ]
     },
     "execution_count": 1,
     "metadata": {},
     "output_type": "execute_result"
    }
   ],
   "source": [
    "# Yonderland\n",
    "y_currs = [0.15, 0.25, 0.6]  # 3x1 matrix of currency percentages of Y's GDP  [C, M, Y]\n",
    "y_ecos = [0.2 0.4 0.4]  # 1x3 matrix of ecoregion proportions in Y [diagonals clear dots]\n",
    "Y = y_currs * y_ecos  # 3x3 Matrix of (currency*ecoregion) proportions of Y's GDP\n",
    "\n",
    "# Consillia\n",
    "c_currs = [0.8, 0.2, 0]\n",
    "c_ecos = [0.2 0.6 0.2]\n",
    "C = c_currs * c_ecos\n",
    "\n",
    "# Marketopia\n",
    "m_currs = [0, 1, 0 ]\n",
    "m_ecos = [0.2 0.8 0]\n",
    "M = m_currs * m_ecos\n",
    "\n",
    "\n",
    "# 3x3 Numeric sum matrix. currency*ecosystem proportions \n",
    "NS = Y + C + M  \n",
    "\n",
    "# normalize\n",
    "row_sums = [1 1 1] * NS \n",
    "W = NS ./ row_sums  # The weight matrix \n",
    "\n",
    "# Final \"ERi\" of each currency [C, M, Y], except this isn't right, because the ERi of each ecoregion \n",
    "# isn't anywhere in the calculation\n",
    "Eris = W * [1, 1, 1]"
   ]
  },
  {
   "cell_type": "markdown",
   "metadata": {},
   "source": [
    "## ERi calculation"
   ]
  },
  {
   "cell_type": "code",
   "execution_count": 27,
   "metadata": {},
   "outputs": [
    {
     "data": {
      "text/plain": [
       "3-element Array{Float64,1}:\n",
       " 1.0866666666666667\n",
       " 1.49              \n",
       " 0.7733333333333332"
      ]
     },
     "execution_count": 27,
     "metadata": {},
     "output_type": "execute_result"
    }
   ],
   "source": [
    "# Ecoregion ERis\n",
    "ecos_ERis = [0.5 1.75 1.1]\n",
    "\n",
    "# Yonderland\n",
    "y_currs = [0.15, 0.25, 0.6]  # 3x1 matrix of currency percentages of Y's GDP  [C, M, Y]\n",
    "y_ecos = [0.2 0.4 0.4]  # 1x3 matrix of ecoregion proportions in Y [diagonals clear dots]\n",
    "Y = y_currs * y_ecos  # 3x3 Matrix of (gdp% * ecoregion%) proportions of Y's GDP\n",
    "\n",
    "# Consillia\n",
    "c_currs = [0.8, 0.2, 0]\n",
    "c_ecos = [0.2 0.6 0.2]\n",
    "C = c_currs * c_ecos\n",
    "\n",
    "# Marketopia\n",
    "m_currs = [0, 1, 0 ]\n",
    "m_ecos = [0.2 0.8 0]\n",
    "M = m_currs * m_ecos\n",
    "\n",
    "\n",
    "# 3x3 Numeric sum matrix. currency*ecosystem proportions\n",
    "\n",
    "NS = Y + C + M  \n",
    "\n",
    "# normalize\n",
    "row_sums = [1 1 1] * NS \n",
    "W = NS ./ row_sums  # The weight matrix \n",
    "\n",
    "# multiply by ecos_ERis\n",
    "wERi = W .* ecos_ERis\n",
    "\n",
    "# Final \"ERi\" of each currency [C, M, Y], except this isn't right, because the ERi of each ecoregion \n",
    "# isn't anywhere in the calculation\n",
    "Eris = wERi * [1, 1, 1]"
   ]
  },
  {
   "cell_type": "code",
   "execution_count": 28,
   "metadata": {},
   "outputs": [
    {
     "data": {
      "text/plain": [
       "3×3 Array{Float64,2}:\n",
       " 0.19  0.54  0.22\n",
       " 0.29  1.02  0.14\n",
       " 0.12  0.24  0.24"
      ]
     },
     "execution_count": 28,
     "metadata": {},
     "output_type": "execute_result"
    }
   ],
   "source": [
    "NS"
   ]
  },
  {
   "cell_type": "code",
   "execution_count": 10,
   "metadata": {},
   "outputs": [
    {
     "data": {
      "text/plain": [
       "3-element Array{Int64,1}:\n",
       " 4\n",
       " 6\n",
       " 8"
      ]
     },
     "execution_count": 10,
     "metadata": {},
     "output_type": "execute_result"
    }
   ],
   "source": [
    "f(x) = x * 3\n",
    "l = zip([1, 2, 3], [3, 4, 5])\n",
    "map(el -> el[1] + el[2], l)"
   ]
  },
  {
   "cell_type": "code",
   "execution_count": 8,
   "metadata": {},
   "outputs": [
    {
     "data": {
      "text/plain": [
       "Base.Iterators.Zip{Tuple{Array{Int64,1},Array{Int64,1}}}(([1, 2, 3], [3, 4, 5]))"
      ]
     },
     "execution_count": 8,
     "metadata": {},
     "output_type": "execute_result"
    }
   ],
   "source": [
    "zip()"
   ]
  },
  {
   "cell_type": "code",
   "execution_count": 14,
   "metadata": {},
   "outputs": [
    {
     "data": {
      "text/plain": [
       "3-element Array{Float64,1}:\n",
       " 4.8e9\n",
       " 1.2e9\n",
       " 0.0  "
      ]
     },
     "execution_count": 14,
     "metadata": {},
     "output_type": "execute_result"
    }
   ],
   "source": [
    "c_currs * 6e9\n",
    "    \n",
    "    "
   ]
  },
  {
   "cell_type": "code",
   "execution_count": 2,
   "metadata": {},
   "outputs": [
    {
     "data": {
      "text/plain": [
       "2-element Array{Float64,1}:\n",
       " 0.9090909090909091\n",
       " 1.0909090909090908"
      ]
     },
     "execution_count": 2,
     "metadata": {},
     "output_type": "execute_result"
    }
   ],
   "source": [
    "# two disproportionate countries scenario\n",
    "\n",
    "eERis = [1 1]  # [diag, dots]\n",
    "\n",
    "# Consillia\n",
    "c_currs = [1, 0]  # [C, M]\n",
    "c_ecos = [1 0]  # [diag, dots]\n",
    "C = c_currs * c_ecos  # 2x2 Matrix of (gdp% * ecoregion%) proportions of C's GDP\n",
    "\n",
    "# Marketopia\n",
    "m_currs = [0, 1]  # [C, M]\n",
    "m_ecos = [0.1 0.9]  # [diag, dots]\n",
    "M = m_currs * m_ecos  # 2x2 Matrix of (gdp% * ecoregion%) proportions of C's GDP\n",
    "\n",
    "\n",
    "# 3x3 Numeric sum matrix. currency*ecosystem proportions\n",
    "NS = C + M  \n",
    "\n",
    "# normalize\n",
    "row_sums = [1 1 ] * NS \n",
    "W = NS ./ row_sums  # The weight matrix \n",
    "\n",
    "# multiply by ecos ERis\n",
    "wERi = W .* eERis\n",
    "\n",
    "# Final ERi of each currency [C, M]\n",
    "cERis = wERi * [1, 1]"
   ]
  },
  {
   "cell_type": "code",
   "execution_count": null,
   "metadata": {},
   "outputs": [],
   "source": []
  },
  {
   "cell_type": "code",
   "execution_count": null,
   "metadata": {},
   "outputs": [],
   "source": []
  },
  {
   "cell_type": "code",
   "execution_count": null,
   "metadata": {},
   "outputs": [],
   "source": []
  },
  {
   "cell_type": "code",
   "execution_count": null,
   "metadata": {},
   "outputs": [],
   "source": []
  }
 ],
 "metadata": {
  "kernelspec": {
   "display_name": "Julia 1.2.0",
   "language": "julia",
   "name": "julia-1.2"
  },
  "language_info": {
   "file_extension": ".jl",
   "mimetype": "application/julia",
   "name": "julia",
   "version": "1.2.0"
  }
 },
 "nbformat": 4,
 "nbformat_minor": 4
}
