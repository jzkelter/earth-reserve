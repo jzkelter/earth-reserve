{
 "cells": [
  {
   "cell_type": "markdown",
   "metadata": {},
   "source": [
    "# ERi Calculation in Matrix Form\n",
    "There is something wrong with the methodology. The ERi of each ecoregion is nowhere to be found..."
   ]
  },
  {
   "cell_type": "code",
   "execution_count": 1,
   "metadata": {},
   "outputs": [
    {
     "data": {
      "text/plain": [
       "3-element Array{Float64,1}:\n",
       " 0.9833333333333334\n",
       " 1.2833333333333334\n",
       " 0.7333333333333332"
      ]
     },
     "execution_count": 1,
     "metadata": {},
     "output_type": "execute_result"
    }
   ],
   "source": [
    "# Yonderland\n",
    "y_currs = [0.15, 0.25, 0.6]  # 3x1 matrix of currency percentages of Y's GDP  [C, M, Y]\n",
    "y_ecos = [0.2 0.4 0.4]  # 1x3 matrix of ecoregion proportions in Y [diagonals clear dots]\n",
    "Y = y_currs * y_ecos  # 3x3 Matrix of (currency*ecoregion) proportions of Y's GDP\n",
    "\n",
    "# Consillia\n",
    "c_currs = [0.8, 0.2, 0]\n",
    "c_ecos = [0.2 0.6 0.2]\n",
    "C = c_currs * c_ecos\n",
    "\n",
    "# Marketopia\n",
    "m_currs = [0, 1, 0 ]\n",
    "m_ecos = [0.2 0.8 0]\n",
    "M = m_currs * m_ecos\n",
    "\n",
    "\n",
    "# 3x3 Numeric sum matrix. currency*ecosystem proportions \n",
    "NS = Y + C + M  \n",
    "\n",
    "# normalize\n",
    "row_sums = [1 1 1] * NS \n",
    "W = NS ./ row_sums  # The weight matrix \n",
    "\n",
    "# Final \"ERi\" of each currency [C, M, Y], except this isn't right, because the ERi of each ecoregion \n",
    "# isn't anywhere in the calculation\n",
    "Eris = W * [1, 1, 1]"
   ]
  },
  {
   "cell_type": "code",
   "execution_count": null,
   "metadata": {},
   "outputs": [],
   "source": []
  }
 ],
 "metadata": {
  "kernelspec": {
   "display_name": "Julia 1.2.0",
   "language": "julia",
   "name": "julia-1.2"
  },
  "language_info": {
   "file_extension": ".jl",
   "mimetype": "application/julia",
   "name": "julia",
   "version": "1.2.0"
  }
 },
 "nbformat": 4,
 "nbformat_minor": 4
}
